{
 "cells": [
  {
   "cell_type": "code",
   "execution_count": 33,
   "id": "5257758f-a50c-4955-bb79-d85c092a6341",
   "metadata": {},
   "outputs": [],
   "source": [
    "import pandas as pd"
   ]
  },
  {
   "cell_type": "code",
   "execution_count": 34,
   "id": "3037de25-59b0-4055-ab43-309093bcfabe",
   "metadata": {},
   "outputs": [],
   "source": [
    "tabela = pd.read_excel(\"emails.xlsx\")"
   ]
  },
  {
   "cell_type": "code",
   "execution_count": 35,
   "id": "1f53686c-dfb7-4478-bcbe-377a1abecf91",
   "metadata": {},
   "outputs": [],
   "source": [
    "listando_apenas_1_coluna = list(tabela['EMAILS'])"
   ]
  },
  {
   "cell_type": "code",
   "execution_count": 36,
   "id": "83524fb3-1382-4163-a740-5f73517a45ee",
   "metadata": {},
   "outputs": [
    {
     "name": "stdout",
     "output_type": "stream",
     "text": [
      "['teste01@hotmail.com', 'madalyn.cassin@hotmail.com', 'ricardo_kiehn27@yahoo.com', 'mario_cartwright@hotmail.com', 'nettie.feest@yahoo.com', 'grace_lang@yahoo.com', 'litzy42@yahoo.com', 'sebastian70@yahoo.com', 'emil1@gmail.com', 'arne_stark@gmail.com', 'teste11@hotmail.com', 'faustino.rath57@yahoo.com', 'patsy4@gmail.com', 'wilhelm51@yahoo.com', 'gaston.mclaughlin@yahoo.com', 'alberta83@gmail.com', 'alysa73@hotmail.com', 'ahmad95@gmail.com', 'gilberto_langworth85@gmail.com', 'alex67@hotmail.com', 'napoleon16@gmail.com', 'raphaelle_reichel31@gmail.com', 'lucinda_turner23@yahoo.com', 'aurelia48@gmail.com', 'carolyne74@yahoo.com', 'orie.friesen58@yahoo.com', 'neha_kshlerin41@hotmail.com', 'orie.friesen58@yahoo.com', 'teste29@hotmail.com', 'tiara.leannon@yahoo.com', 'allie5@gmail.com', 'geovanni_runte@gmail.com', 'teste33@hotmail.com', 'tabitha33@yahoo.com', 'teste35@hotmail.com', 'berry_goyette26@hotmail.com', 'sharon19@gmail.com']\n"
     ]
    }
   ],
   "source": [
    "print(listando_apenas_1_coluna)"
   ]
  },
  {
   "cell_type": "code",
   "execution_count": 45,
   "id": "28f20146-c92e-4851-b795-715c3caae4e5",
   "metadata": {},
   "outputs": [
    {
     "name": "stdout",
     "output_type": "stream",
     "text": [
      "'teste01@hotmail.com'; 'madalyn.cassin@hotmail.com'; 'ricardo_kiehn27@yahoo.com'; 'mario_cartwright@hotmail.com'; 'nettie.feest@yahoo.com'; 'grace_lang@yahoo.com'; 'litzy42@yahoo.com'; 'sebastian70@yahoo.com'; 'emil1@gmail.com'; 'arne_stark@gmail.com'; 'teste11@hotmail.com'; 'faustino.rath57@yahoo.com'; 'patsy4@gmail.com'; 'wilhelm51@yahoo.com'; 'gaston.mclaughlin@yahoo.com'; 'alberta83@gmail.com'; 'alysa73@hotmail.com'; 'ahmad95@gmail.com'; 'gilberto_langworth85@gmail.com'; 'alex67@hotmail.com'; 'napoleon16@gmail.com'; 'raphaelle_reichel31@gmail.com'; 'lucinda_turner23@yahoo.com'; 'aurelia48@gmail.com'; 'carolyne74@yahoo.com'; 'orie.friesen58@yahoo.com'; 'neha_kshlerin41@hotmail.com'; 'orie.friesen58@yahoo.com'; 'teste29@hotmail.com'; 'tiara.leannon@yahoo.com'; 'allie5@gmail.com'; 'geovanni_runte@gmail.com'; 'teste33@hotmail.com'; 'tabitha33@yahoo.com'; 'teste35@hotmail.com'; 'berry_goyette26@hotmail.com'; 'sharon19@gmail.com'\n"
     ]
    }
   ],
   "source": [
    "texto01 = str(listando_apenas_1_coluna)\n",
    "texto01 = texto01.replace('[', '')\n",
    "texto01 = texto01.replace(',', ';')\n",
    "texto01 = texto01.replace(']', '')\n",
    "\n",
    "print(texto01)"
   ]
  },
  {
   "cell_type": "code",
   "execution_count": null,
   "id": "5ecaf746-2649-44aa-a94b-9e87d3594b37",
   "metadata": {},
   "outputs": [],
   "source": []
  }
 ],
 "metadata": {
  "kernelspec": {
   "display_name": "Python 3 (ipykernel)",
   "language": "python",
   "name": "python3"
  },
  "language_info": {
   "codemirror_mode": {
    "name": "ipython",
    "version": 3
   },
   "file_extension": ".py",
   "mimetype": "text/x-python",
   "name": "python",
   "nbconvert_exporter": "python",
   "pygments_lexer": "ipython3",
   "version": "3.9.7"
  }
 },
 "nbformat": 4,
 "nbformat_minor": 5
}
