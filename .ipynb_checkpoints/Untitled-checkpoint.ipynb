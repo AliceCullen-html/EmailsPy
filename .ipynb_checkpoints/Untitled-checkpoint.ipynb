{
 "cells": [
  {
   "cell_type": "code",
   "execution_count": 4,
   "id": "bfa77b7b-b227-43d3-8553-bf8adb5725a1",
   "metadata": {},
   "outputs": [
    {
     "ename": "ImportError",
     "evalue": "DLL load failed while importing win32api: Não foi possível encontrar o procedimento especificado.",
     "output_type": "error",
     "traceback": [
      "\u001b[1;31m---------------------------------------------------------------------------\u001b[0m",
      "\u001b[1;31mImportError\u001b[0m                               Traceback (most recent call last)",
      "Input \u001b[1;32mIn [4]\u001b[0m, in \u001b[0;36m<cell line: 1>\u001b[1;34m()\u001b[0m\n\u001b[1;32m----> 1\u001b[0m \u001b[38;5;28;01mimport\u001b[39;00m \u001b[38;5;21;01mwin32com\u001b[39;00m\u001b[38;5;21;01m.\u001b[39;00m\u001b[38;5;21;01mclient\u001b[39;00m\n",
      "File \u001b[1;32m~\\AppData\\Roaming\\Python\\Python39\\site-packages\\win32com\\__init__.py:5\u001b[0m, in \u001b[0;36m<module>\u001b[1;34m\u001b[0m\n\u001b[0;32m      1\u001b[0m \u001b[38;5;66;03m#\u001b[39;00m\n\u001b[0;32m      2\u001b[0m \u001b[38;5;66;03m# Initialization for the win32com package\u001b[39;00m\n\u001b[0;32m      3\u001b[0m \u001b[38;5;66;03m#\u001b[39;00m\n\u001b[1;32m----> 5\u001b[0m \u001b[38;5;28;01mimport\u001b[39;00m \u001b[38;5;21;01mwin32api\u001b[39;00m\u001b[38;5;241m,\u001b[39m \u001b[38;5;21;01msys\u001b[39;00m\u001b[38;5;241m,\u001b[39m \u001b[38;5;21;01mos\u001b[39;00m\n\u001b[0;32m      6\u001b[0m \u001b[38;5;28;01mimport\u001b[39;00m \u001b[38;5;21;01mpythoncom\u001b[39;00m\n\u001b[0;32m      8\u001b[0m \u001b[38;5;66;03m# flag if we are in a \"frozen\" build.\u001b[39;00m\n",
      "\u001b[1;31mImportError\u001b[0m: DLL load failed while importing win32api: Não foi possível encontrar o procedimento especificado."
     ]
    }
   ],
   "source": [
    "import win32com.client"
   ]
  },
  {
   "cell_type": "code",
   "execution_count": null,
   "id": "d41c6d20-99e8-41eb-8f78-c75eeb5ed95f",
   "metadata": {},
   "outputs": [],
   "source": [
    "\n",
    "mailto = input('Para quem deseja enviar?')\n",
    "sub = input('CC;')\n",
    "ht = input('Digite sua mensagem normalmente ou em HTML')\n",
    "outlook = win32com.client.Dispatch(\"Outlook.Application\")\n",
    "conta = ''\n",
    "\n",
    "\n",
    "for item in outlook.Session.Accounts:\n",
    "    # coloque o seu email no lugar remetente@email.com\n",
    "    if item.SmtpAddress == 'marcusvcunha0800@hotmail.com':\n",
    "        conta = item\n",
    "        break\n",
    "\n",
    "\n",
    "mail = outlook.CreateItem(0)\n",
    "\n",
    "\n",
    "if conta:\n",
    "    mail._oleobj_.Invoke(*(64209, 0, 8, 0, conta))\n",
    "\n",
    "\n",
    "mail.To = mailto\n",
    "\n",
    "\n",
    "mail.Subject = 'Email vindo do Outlook'\n",
    "\n",
    "#mail.CC = 'email@gmail.com'\n",
    "\n",
    "#mail.BCC = 'email@gmail.com'\n",
    "\n",
    "# se preferir pode mandar um email mais simples usando o mail.Body\n",
    "mail.HTMLBody = ht\n",
    "\n",
    "# Anexos (pode colocar quantos quiser =D):\n",
    "\n",
    "mail.Send()\n"
   ]
  },
  {
   "cell_type": "code",
   "execution_count": null,
   "id": "c618b406-de03-4d13-8710-8a755618d264",
   "metadata": {},
   "outputs": [],
   "source": []
  }
 ],
 "metadata": {
  "kernelspec": {
   "display_name": "Python 3 (ipykernel)",
   "language": "python",
   "name": "python3"
  },
  "language_info": {
   "codemirror_mode": {
    "name": "ipython",
    "version": 3
   },
   "file_extension": ".py",
   "mimetype": "text/x-python",
   "name": "python",
   "nbconvert_exporter": "python",
   "pygments_lexer": "ipython3",
   "version": "3.9.7"
  }
 },
 "nbformat": 4,
 "nbformat_minor": 5
}
