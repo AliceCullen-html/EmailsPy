{
 "cells": [
  {
   "cell_type": "code",
   "execution_count": 5,
   "id": "bfa77b7b-b227-43d3-8553-bf8adb5725a1",
   "metadata": {},
   "outputs": [],
   "source": [
    "from win32com import client\n",
    "import pandas as pd"
   ]
  },
  {
   "cell_type": "code",
   "execution_count": 13,
   "id": "5960b592",
   "metadata": {},
   "outputs": [
    {
     "name": "stdout",
     "output_type": "stream",
     "text": [
      "   Unnamed: 0                          EMAILS\n",
      "0         NaN             teste01@hotmail.com\n",
      "1         NaN      madalyn.cassin@hotmail.com\n",
      "2         NaN       ricardo_kiehn27@yahoo.com\n",
      "3           a    mario_cartwright@hotmail.com\n",
      "4         NaN          nettie.feest@yahoo.com\n",
      "5         NaN            grace_lang@yahoo.com\n",
      "6         NaN               litzy42@yahoo.com\n",
      "7         NaN           sebastian70@yahoo.com\n",
      "8         NaN                 emil1@gmail.com\n",
      "9         NaN            arne_stark@gmail.com\n",
      "10        NaN             teste11@hotmail.com\n",
      "11        NaN       faustino.rath57@yahoo.com\n",
      "12        NaN                patsy4@gmail.com\n",
      "13        NaN             wilhelm51@yahoo.com\n",
      "14        NaN     gaston.mclaughlin@yahoo.com\n",
      "15        NaN             alberta83@gmail.com\n",
      "16        NaN             alysa73@hotmail.com\n",
      "17        NaN               ahmad95@gmail.com\n",
      "18        NaN  gilberto_langworth85@gmail.com\n",
      "19        NaN              alex67@hotmail.com\n",
      "20        NaN            napoleon16@gmail.com\n",
      "21        NaN   raphaelle_reichel31@gmail.com\n",
      "22        NaN      lucinda_turner23@yahoo.com\n",
      "23        NaN             aurelia48@gmail.com\n",
      "24        NaN            carolyne74@yahoo.com\n",
      "25        NaN        orie.friesen58@yahoo.com\n",
      "26        NaN     neha_kshlerin41@hotmail.com\n",
      "27        NaN        orie.friesen58@yahoo.com\n",
      "28        NaN             teste29@hotmail.com\n",
      "29        NaN         tiara.leannon@yahoo.com\n",
      "30        NaN                allie5@gmail.com\n",
      "31        NaN        geovanni_runte@gmail.com\n",
      "32        NaN             teste33@hotmail.com\n",
      "33        NaN             tabitha33@yahoo.com\n",
      "34        NaN             teste35@hotmail.com\n",
      "35        NaN     berry_goyette26@hotmail.com\n",
      "36        NaN              sharon19@gmail.com\n"
     ]
    }
   ],
   "source": [
    "tabela = pd.read_excel(\"emails.xlsx\")\n",
    "print(tabela)"
   ]
  },
  {
   "cell_type": "code",
   "execution_count": 14,
   "id": "e21c01b5",
   "metadata": {},
   "outputs": [
    {
     "name": "stdout",
     "output_type": "stream",
     "text": [
      "['teste01@hotmail.com', 'madalyn.cassin@hotmail.com', 'ricardo_kiehn27@yahoo.com', 'mario_cartwright@hotmail.com', 'nettie.feest@yahoo.com', 'grace_lang@yahoo.com', 'litzy42@yahoo.com', 'sebastian70@yahoo.com', 'emil1@gmail.com', 'arne_stark@gmail.com', 'teste11@hotmail.com', 'faustino.rath57@yahoo.com', 'patsy4@gmail.com', 'wilhelm51@yahoo.com', 'gaston.mclaughlin@yahoo.com', 'alberta83@gmail.com', 'alysa73@hotmail.com', 'ahmad95@gmail.com', 'gilberto_langworth85@gmail.com', 'alex67@hotmail.com', 'napoleon16@gmail.com', 'raphaelle_reichel31@gmail.com', 'lucinda_turner23@yahoo.com', 'aurelia48@gmail.com', 'carolyne74@yahoo.com', 'orie.friesen58@yahoo.com', 'neha_kshlerin41@hotmail.com', 'orie.friesen58@yahoo.com', 'teste29@hotmail.com', 'tiara.leannon@yahoo.com', 'allie5@gmail.com', 'geovanni_runte@gmail.com', 'teste33@hotmail.com', 'tabitha33@yahoo.com', 'teste35@hotmail.com', 'berry_goyette26@hotmail.com', 'sharon19@gmail.com']\n"
     ]
    }
   ],
   "source": [
    "listando_apenas_1_coluna = list(tabela['EMAILS'])\n",
    "print(listando_apenas_1_coluna)\n"
   ]
  },
  {
   "cell_type": "code",
   "execution_count": 15,
   "id": "c52c4f04",
   "metadata": {},
   "outputs": [
    {
     "name": "stdout",
     "output_type": "stream",
     "text": [
      "'teste01@hotmail.com'; 'madalyn.cassin@hotmail.com'; 'ricardo_kiehn27@yahoo.com'; 'mario_cartwright@hotmail.com'; 'nettie.feest@yahoo.com'; 'grace_lang@yahoo.com'; 'litzy42@yahoo.com'; 'sebastian70@yahoo.com'; 'emil1@gmail.com'; 'arne_stark@gmail.com'; 'teste11@hotmail.com'; 'faustino.rath57@yahoo.com'; 'patsy4@gmail.com'; 'wilhelm51@yahoo.com'; 'gaston.mclaughlin@yahoo.com'; 'alberta83@gmail.com'; 'alysa73@hotmail.com'; 'ahmad95@gmail.com'; 'gilberto_langworth85@gmail.com'; 'alex67@hotmail.com'; 'napoleon16@gmail.com'; 'raphaelle_reichel31@gmail.com'; 'lucinda_turner23@yahoo.com'; 'aurelia48@gmail.com'; 'carolyne74@yahoo.com'; 'orie.friesen58@yahoo.com'; 'neha_kshlerin41@hotmail.com'; 'orie.friesen58@yahoo.com'; 'teste29@hotmail.com'; 'tiara.leannon@yahoo.com'; 'allie5@gmail.com'; 'geovanni_runte@gmail.com'; 'teste33@hotmail.com'; 'tabitha33@yahoo.com'; 'teste35@hotmail.com'; 'berry_goyette26@hotmail.com'; 'sharon19@gmail.com'\n"
     ]
    }
   ],
   "source": [
    "texto01 = str(listando_apenas_1_coluna)\n",
    "texto01 = texto01.replace('[','')\n",
    "texto01 = texto01.replace(',',';')\n",
    "texto01 = texto01.replace(']','')\n",
    "print(texto01)"
   ]
  },
  {
   "cell_type": "code",
   "execution_count": 9,
   "id": "d41c6d20-99e8-41eb-8f78-c75eeb5ed95f",
   "metadata": {},
   "outputs": [],
   "source": [
    "\n",
    "outlook = win32com.client.Dispatch(\"Outlook.Application\")\n",
    "conta = ''\n",
    "mailto = texto01\n",
    "sub = ('')\n",
    "\n",
    "for item in outlook.Session.Accounts:\n",
    "    # coloque o seu email no lugar remetente@email.com\n",
    "    if item.SmtpAddress == 'remetente@email.com':\n",
    "        conta = item\n",
    "        break\n",
    "\n",
    "\n",
    "mail = outlook.CreateItem(0)\n",
    "\n",
    "\n",
    "if conta:\n",
    "    mail._oleobj_.Invoke(*(64209, 0, 8, 0, conta))\n",
    "\n",
    "\n",
    "mail.To = mailto\n",
    "\n",
    "mail.Subject = 'Test'\n",
    "\n",
    "mail.HTMLBody = 'Lorem ipsum dolor sit amet, consectetur adipiscing elit. Maecenas ultricies lacus orci, sed ultrices ligula pretium eget. Vestibulum quis pharetra ipsum. Vivamus tristique eleifend orci, eu facilisis velit auctor at. Integer iaculis dolor quis massa mollis congue. Mauris porttitor, felis id vestibulum consequat, mi lectus euismod turpis, non euismod purus dolor eu purus. Phasellus semper lorem eu consequat eleifend. Fusce tristique, felis vitae auctor venenatis, tellus sapien facilisis ligula, accumsan finibus urna erat id nibh.'\n",
    "\n",
    "\n",
    "# Anexos (pode colocar quantos quiser =D):\n",
    "attachment = r'C:\\Users\\vulco\\Desktop\\HASHTAG\\python\\Email02\\emails.xlsx'\n",
    "mail.Attachments.Add(attachment)\n",
    "\n",
    "\n",
    "\n",
    "\n",
    "\n",
    "mail.Send()\n"
   ]
  },
  {
   "cell_type": "code",
   "execution_count": null,
   "id": "c618b406-de03-4d13-8710-8a755618d264",
   "metadata": {},
   "outputs": [],
   "source": []
  },
  {
   "cell_type": "code",
   "execution_count": null,
   "id": "f5f7f77c-2ddc-439e-a11d-f148d98f12ad",
   "metadata": {},
   "outputs": [],
   "source": []
  }
 ],
 "metadata": {
  "kernelspec": {
   "display_name": "Python 3.9.6 64-bit",
   "language": "python",
   "name": "python3"
  },
  "language_info": {
   "codemirror_mode": {
    "name": "ipython",
    "version": 3
   },
   "file_extension": ".py",
   "mimetype": "text/x-python",
   "name": "python",
   "nbconvert_exporter": "python",
   "pygments_lexer": "ipython3",
   "version": "3.9.6"
  },
  "vscode": {
   "interpreter": {
    "hash": "218ba5a5745b1064388bf0b3364c7120a90f82ed9e04c71db1cf3ece39b10234"
   }
  }
 },
 "nbformat": 4,
 "nbformat_minor": 5
}
